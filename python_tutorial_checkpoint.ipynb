{
  "nbformat": 4,
  "nbformat_minor": 0,
  "metadata": {
    "colab": {
      "name": "python_tutorial-checkpoint.ipynb",
      "version": "0.3.2",
      "provenance": [],
      "include_colab_link": true
    },
    "kernelspec": {
      "name": "python36",
      "display_name": "Python 3.6",
      "language": "python"
    }
  },
  "cells": [
    {
      "cell_type": "markdown",
      "metadata": {
        "id": "view-in-github",
        "colab_type": "text"
      },
      "source": [
        "<a href=\"https://colab.research.google.com/github/anuroopshannu/python/blob/master/python_tutorial_checkpoint.ipynb\" target=\"_parent\"><img src=\"https://colab.research.google.com/assets/colab-badge.svg\" alt=\"Open In Colab\"/></a>"
      ]
    },
    {
      "metadata": {
        "collapsed": true,
        "id": "8RkXrbG6kqFq",
        "colab_type": "text"
      },
      "cell_type": "markdown",
      "source": [
        "# MICROPYTHON BASICS"
      ]
    },
    {
      "metadata": {
        "trusted": true,
        "id": "5lkreQggkqFs",
        "colab_type": "code",
        "outputId": "3aef27c6-4080-42c9-c807-db2925495245",
        "colab": {
          "base_uri": "https://localhost:8080/",
          "height": 34
        }
      },
      "cell_type": "code",
      "source": [
        "print(\"Hello, World!\")"
      ],
      "execution_count": 0,
      "outputs": [
        {
          "output_type": "stream",
          "text": [
            "Hello, World!\n"
          ],
          "name": "stdout"
        }
      ]
    },
    {
      "metadata": {
        "id": "soQIsS4gkqFt",
        "colab_type": "text"
      },
      "cell_type": "markdown",
      "source": [
        "### Variables and Assignment"
      ]
    },
    {
      "metadata": {
        "trusted": true,
        "id": "fDYR9wBZkqFu",
        "colab_type": "code",
        "outputId": "ed10ff8b-0a41-4d55-fa10-e84e03cf65ab",
        "colab": {
          "base_uri": "https://localhost:8080/",
          "height": 34
        }
      },
      "cell_type": "code",
      "source": [
        "# defining a variable : In Python there is no need to mention the data type\n",
        "\n",
        "var1 = 10      # An integer assignment\n",
        "var2 = 3.146   # A floating point\n",
        "var3 = \"Hello\" # A string\n",
        "\n",
        "print(var1,' ',var2,' ',var3)"
      ],
      "execution_count": 0,
      "outputs": [
        {
          "output_type": "stream",
          "text": [
            "(10, ' ', 3.146, ' ', 'Hello')\n"
          ],
          "name": "stdout"
        }
      ]
    },
    {
      "metadata": {
        "trusted": true,
        "id": "anXP8utMkqFw",
        "colab_type": "code",
        "colab": {}
      },
      "cell_type": "code",
      "source": [
        "#assign and print value of pi here:\n",
        "\n",
        "\n",
        "\n",
        "\n",
        "\n"
      ],
      "execution_count": 0,
      "outputs": []
    },
    {
      "metadata": {
        "trusted": true,
        "id": "ckzdLmizkqFy",
        "colab_type": "code",
        "colab": {}
      },
      "cell_type": "code",
      "source": [
        "# Assigning same value to multiple variables\n",
        "\n",
        "var1 = var2 = var3 = 1\n",
        "print(var1,' ',var2,' ',var3)\n",
        "\n",
        "# Assigning Different values to variable in a single expression\n",
        "\n",
        "var1, var2, var3 = 1, 2.5, \"john\"\n",
        "print(var1,' ',var2,' ',var3)\n",
        "\n",
        "# Note: commas can be used for multi-assignments"
      ],
      "execution_count": 0,
      "outputs": []
    },
    {
      "metadata": {
        "id": "1gVPbpIpkqF0",
        "colab_type": "text"
      },
      "cell_type": "markdown",
      "source": [
        "### Strings"
      ]
    },
    {
      "metadata": {
        "trusted": true,
        "id": "ZY3qalp9kqF1",
        "colab_type": "code",
        "colab": {}
      },
      "cell_type": "code",
      "source": [
        "# String operations\n",
        "\n",
        "str = 'Hello World!'  # A string\n",
        "\n",
        "print(str)          # Prints complete string"
      ],
      "execution_count": 0,
      "outputs": []
    },
    {
      "metadata": {
        "trusted": true,
        "id": "maaOf00XkqF2",
        "colab_type": "code",
        "colab": {}
      },
      "cell_type": "code",
      "source": [
        "print(str[0])       # Prints first character of the string"
      ],
      "execution_count": 0,
      "outputs": []
    },
    {
      "metadata": {
        "id": "9c-AI4Z7kqF5",
        "colab_type": "text"
      },
      "cell_type": "markdown",
      "source": [
        "### Slicing"
      ]
    },
    {
      "metadata": {
        "trusted": true,
        "id": "5TmtKmgUkqF6",
        "colab_type": "code",
        "colab": {}
      },
      "cell_type": "code",
      "source": [
        "print(str[2:5])     # Prints characters starting from 3rd to 5th\n",
        "print(str[2:])      # Prints string starting from 3rd character\n",
        "print(str[:2])"
      ],
      "execution_count": 0,
      "outputs": []
    },
    {
      "metadata": {
        "trusted": true,
        "id": "waLci3QskqF8",
        "colab_type": "code",
        "colab": {}
      },
      "cell_type": "code",
      "source": [
        "#other operations\n",
        "print(str * 2)      # Prints string two times\n",
        "print(str + \"TEST\") # Prints concatenated string"
      ],
      "execution_count": 0,
      "outputs": []
    },
    {
      "metadata": {
        "trusted": true,
        "id": "xS2gdH6skqF-",
        "colab_type": "code",
        "colab": {}
      },
      "cell_type": "code",
      "source": [
        "#convert the word FoGR into pig-latin,(i.e.) oGRFay\n",
        "name = \"FoGR\"\n",
        "\n",
        "\n",
        "\n"
      ],
      "execution_count": 0,
      "outputs": []
    },
    {
      "metadata": {
        "id": "K4q2FgdqkqGA",
        "colab_type": "text"
      },
      "cell_type": "markdown",
      "source": [
        "### Typecasting"
      ]
    },
    {
      "metadata": {
        "trusted": true,
        "id": "XT8J8GkNkqGB",
        "colab_type": "code",
        "colab": {}
      },
      "cell_type": "code",
      "source": [
        "a = 1.2\n",
        "a = str(a)\n",
        "\n",
        "b = 2\n",
        "b = float(b)"
      ],
      "execution_count": 0,
      "outputs": []
    },
    {
      "metadata": {
        "id": "fx4QbNJjkqGD",
        "colab_type": "text"
      },
      "cell_type": "markdown",
      "source": [
        "### Lists"
      ]
    },
    {
      "metadata": {
        "trusted": true,
        "id": "9ggogCHkkqGE",
        "colab_type": "code",
        "colab": {}
      },
      "cell_type": "code",
      "source": [
        "# Python Lists\n",
        "list = [ 'abcd', 786 , 2.23, 'john', 70.2 ]  # A list\n",
        "print(list) "
      ],
      "execution_count": 0,
      "outputs": []
    },
    {
      "metadata": {
        "trusted": true,
        "id": "Mlsrp82EkqGG",
        "colab_type": "code",
        "colab": {}
      },
      "cell_type": "code",
      "source": [
        "#Indexing\n",
        "print(list[0])\n",
        "print(list[-1])"
      ],
      "execution_count": 0,
      "outputs": []
    },
    {
      "metadata": {
        "trusted": true,
        "id": "mXOJTZvykqGH",
        "colab_type": "code",
        "colab": {}
      },
      "cell_type": "code",
      "source": [
        "#append\n",
        "list.append(8)"
      ],
      "execution_count": 0,
      "outputs": []
    },
    {
      "metadata": {
        "trusted": true,
        "id": "Bi32cIJmkqGJ",
        "colab_type": "code",
        "colab": {}
      },
      "cell_type": "code",
      "source": [
        "#Create a list of 5 elements of type string\n",
        "\n",
        "\n",
        "\n",
        "\n",
        "#print the 3rd element\n",
        "\n",
        "\n",
        "\n",
        "\n",
        "#Append another double element\n",
        "\n",
        "\n"
      ],
      "execution_count": 0,
      "outputs": []
    },
    {
      "metadata": {
        "id": "TW5r2nDukqGK",
        "colab_type": "text"
      },
      "cell_type": "markdown",
      "source": [
        "### Dictionaries"
      ]
    },
    {
      "metadata": {
        "trusted": true,
        "id": "kizdWRLFkqGL",
        "colab_type": "code",
        "colab": {}
      },
      "cell_type": "code",
      "source": [
        "# Lists are ordered sets of objects, whereas dictionaries are unordered sets. But the main difference is that items in dictionaries are accessed via keys and not via their position.\n",
        "tel = {'jack': 4098, 'sape': 4139}\n",
        "tel['guido'] = 4127\n",
        "print(tel)\n",
        "print(tel['jack'])\n",
        "tel['irv'] = 4127\n",
        "print(tel)"
      ],
      "execution_count": 0,
      "outputs": []
    },
    {
      "metadata": {
        "trusted": true,
        "id": "NR3xc-DmkqGN",
        "colab_type": "code",
        "colab": {}
      },
      "cell_type": "code",
      "source": [
        "#Dictionary Operations\n",
        "print(tel.keys())\n",
        "print(sorted(tel.keys()))\n",
        "print(sorted(tel.values()))\n",
        "print('guido' in tel)\n",
        "print('jack' not in tel)"
      ],
      "execution_count": 0,
      "outputs": []
    },
    {
      "metadata": {
        "id": "CvLCG7FckqGQ",
        "colab_type": "text"
      },
      "cell_type": "markdown",
      "source": [
        "### Conditional Statements"
      ]
    },
    {
      "metadata": {
        "id": "IBVNGcfpkqGR",
        "colab_type": "text"
      },
      "cell_type": "markdown",
      "source": [
        "#### If-Else"
      ]
    },
    {
      "metadata": {
        "trusted": true,
        "id": "mmkbOUsWkqGS",
        "colab_type": "code",
        "colab": {}
      },
      "cell_type": "code",
      "source": [
        "n = 5\n",
        "if(n%2==0):\n",
        "    print(\"The number is even\") #mind the indentation\n",
        "else:\n",
        "    print(\"The number is odd\") #same here"
      ],
      "execution_count": 0,
      "outputs": []
    },
    {
      "metadata": {
        "id": "noyU-h_xkqGT",
        "colab_type": "text"
      },
      "cell_type": "markdown",
      "source": [
        "#### Else-if"
      ]
    },
    {
      "metadata": {
        "trusted": true,
        "id": "FvVzKfyhkqGU",
        "colab_type": "code",
        "colab": {}
      },
      "cell_type": "code",
      "source": [
        "if(3<1):\n",
        "    print(\"Entered if\")\n",
        "elif(2<3):\n",
        "    print(\"Entered elif\")\n",
        "else:\n",
        "    print(\"Entered else\")"
      ],
      "execution_count": 0,
      "outputs": []
    },
    {
      "metadata": {
        "trusted": true,
        "id": "9AvV2J6SkqGV",
        "colab_type": "code",
        "colab": {}
      },
      "cell_type": "code",
      "source": [
        "#program for conditionals\n",
        "a = 5\n",
        "b = 10\n",
        "\n",
        "#write a program to see if a>b or b>a or a=b\n",
        "\n",
        "\n",
        "\n",
        "\n"
      ],
      "execution_count": 0,
      "outputs": []
    },
    {
      "metadata": {
        "id": "NOeD41c4kqGX",
        "colab_type": "text"
      },
      "cell_type": "markdown",
      "source": [
        "### Loops"
      ]
    },
    {
      "metadata": {
        "trusted": true,
        "id": "zs_2Eo9-kqGY",
        "colab_type": "code",
        "colab": {}
      },
      "cell_type": "code",
      "source": [
        "for i in range(0,100):\n",
        "    print(i)"
      ],
      "execution_count": 0,
      "outputs": []
    },
    {
      "metadata": {
        "trusted": true,
        "id": "8Zxg8zUIkqGa",
        "colab_type": "code",
        "colab": {}
      },
      "cell_type": "code",
      "source": [
        "# Square of odd numbers between 1 and 10\n",
        "\n",
        "\n",
        "\n",
        "\n",
        "\n"
      ],
      "execution_count": 0,
      "outputs": []
    },
    {
      "metadata": {
        "trusted": true,
        "id": "ozIsQWyTkqGb",
        "colab_type": "code",
        "colab": {}
      },
      "cell_type": "code",
      "source": [
        "j = 0\n",
        "while(j<10):\n",
        "    print(\"I love python!!!\")\n",
        "    j+=1"
      ],
      "execution_count": 0,
      "outputs": []
    },
    {
      "metadata": {
        "trusted": true,
        "id": "f4vD0PMnkqGc",
        "colab_type": "code",
        "colab": {}
      },
      "cell_type": "code",
      "source": [
        "#While loop to print prime numbers between 2 and 50\n",
        "\n",
        "\n",
        "\n",
        "\n",
        "\n",
        "\n",
        "\n"
      ],
      "execution_count": 0,
      "outputs": []
    },
    {
      "metadata": {
        "id": "IWpmPurLkqGf",
        "colab_type": "text"
      },
      "cell_type": "markdown",
      "source": [
        "### Functions in Python"
      ]
    },
    {
      "metadata": {
        "trusted": true,
        "id": "K_FBkcjHkqGf",
        "colab_type": "code",
        "colab": {}
      },
      "cell_type": "code",
      "source": [
        "def area(length,width):\n",
        "    return length*width\n",
        "\n",
        "are = area(10,20)\n",
        "\n",
        "print(\"Area of rectangle:\",are)"
      ],
      "execution_count": 0,
      "outputs": []
    },
    {
      "metadata": {
        "trusted": true,
        "id": "szdseeRjkqGh",
        "colab_type": "code",
        "colab": {}
      },
      "cell_type": "code",
      "source": [
        "#program using functions to perform addition, subtraction, multiplication and division.\n",
        "\n",
        "\n",
        "\n",
        "\n",
        "\n",
        "\n",
        "\n",
        "\n",
        "\n",
        "\n",
        "\n",
        "\n"
      ],
      "execution_count": 0,
      "outputs": []
    },
    {
      "metadata": {
        "id": "1zaJbcgIkqGi",
        "colab_type": "text"
      },
      "cell_type": "markdown",
      "source": [
        "### Built-in Functions"
      ]
    },
    {
      "metadata": {
        "trusted": true,
        "id": "3LlAJLzbkqGi",
        "colab_type": "code",
        "colab": {}
      },
      "cell_type": "code",
      "source": [
        "print(\"Sum of array: \",sum([1,2,3,4]))\n",
        "print(\"Length of array: \",len([1,2,3,4]))\n",
        "print(\"Absolute value: \",abs(-1234))\n",
        "print(\"Round value: \",round(1.2234))"
      ],
      "execution_count": 0,
      "outputs": []
    },
    {
      "metadata": {
        "id": "0iA3wWYikqGj",
        "colab_type": "text"
      },
      "cell_type": "markdown",
      "source": [
        "### Imports"
      ]
    },
    {
      "metadata": {
        "trusted": true,
        "id": "AfNG8Q7HkqGl",
        "colab_type": "code",
        "colab": {}
      },
      "cell_type": "code",
      "source": [
        "import math as mt      # importing a package\n",
        "print(\"Log value: \",mt.log(10))"
      ],
      "execution_count": 0,
      "outputs": []
    },
    {
      "metadata": {
        "id": "lOp1Dd9QkqGm",
        "colab_type": "text"
      },
      "cell_type": "markdown",
      "source": [
        "### program to create a shopping cart to perform the following:\n",
        "\n",
        "1. add item to cart\n",
        "2. delete item from cart\n",
        "3. calculate total"
      ]
    },
    {
      "metadata": {
        "trusted": true,
        "id": "PMMoOgV0kqGm",
        "colab_type": "code",
        "colab": {}
      },
      "cell_type": "code",
      "source": [
        "\n",
        "\n",
        "\n",
        "\n",
        "\n",
        "\n",
        "\n",
        "\n",
        "\n",
        "\n",
        "\n",
        "\n",
        "\n",
        "\n",
        "\n",
        "\n",
        "\n",
        "\n",
        "\n",
        "\n",
        "\n",
        "\n",
        "\n",
        "\n",
        "\n",
        "\n"
      ],
      "execution_count": 0,
      "outputs": []
    }
  ]
}
